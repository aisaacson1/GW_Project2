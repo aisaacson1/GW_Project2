{
 "cells": [
  {
   "cell_type": "code",
   "execution_count": 2,
   "metadata": {},
   "outputs": [],
   "source": [
    "from sklearn import tree\n",
    "import pandas as pd\n"
   ]
  },
  {
   "cell_type": "code",
   "execution_count": 3,
   "metadata": {},
   "outputs": [
    {
     "data": {
      "text/html": "<div>\n<style scoped>\n    .dataframe tbody tr th:only-of-type {\n        vertical-align: middle;\n    }\n\n    .dataframe tbody tr th {\n        vertical-align: top;\n    }\n\n    .dataframe thead th {\n        text-align: right;\n    }\n</style>\n<table border=\"1\" class=\"dataframe\">\n  <thead>\n    <tr style=\"text-align: right;\">\n      <th></th>\n      <th>Survey_ID</th>\n      <th>value</th>\n      <th>Data_Type</th>\n      <th>Chart_Type</th>\n      <th>Correct</th>\n    </tr>\n  </thead>\n  <tbody>\n    <tr>\n      <th>0</th>\n      <td>9e22cd438d684a29a5e84044b83b6664a9152e35453014...</td>\n      <td>sq_101</td>\n      <td>categoryvsvalue</td>\n      <td>Bar</td>\n      <td>0</td>\n    </tr>\n    <tr>\n      <th>1</th>\n      <td>9e22cd438d684a29a5e84044b83b6664a9152e35453014...</td>\n      <td>sq_102</td>\n      <td>valuevslocation</td>\n      <td>Map</td>\n      <td>0</td>\n    </tr>\n    <tr>\n      <th>2</th>\n      <td>9e22cd438d684a29a5e84044b83b6664a9152e35453014...</td>\n      <td>sq_103</td>\n      <td>valuevstime</td>\n      <td>Rings</td>\n      <td>0</td>\n    </tr>\n    <tr>\n      <th>3</th>\n      <td>9e22cd438d684a29a5e84044b83b6664a9152e35453014...</td>\n      <td>sq_104</td>\n      <td>comparison</td>\n      <td>Bar</td>\n      <td>0</td>\n    </tr>\n    <tr>\n      <th>4</th>\n      <td>9e22cd438d684a29a5e84044b83b6664a9152e35453014...</td>\n      <td>sq_105</td>\n      <td>categoryvsvalue</td>\n      <td>Bubble</td>\n      <td>0</td>\n    </tr>\n  </tbody>\n</table>\n</div>",
      "text/plain": "                                           Survey_ID   value        Data_Type  \\\n0  9e22cd438d684a29a5e84044b83b6664a9152e35453014...  sq_101  categoryvsvalue   \n1  9e22cd438d684a29a5e84044b83b6664a9152e35453014...  sq_102  valuevslocation   \n2  9e22cd438d684a29a5e84044b83b6664a9152e35453014...  sq_103      valuevstime   \n3  9e22cd438d684a29a5e84044b83b6664a9152e35453014...  sq_104       comparison   \n4  9e22cd438d684a29a5e84044b83b6664a9152e35453014...  sq_105  categoryvsvalue   \n\n  Chart_Type  Correct  \n0        Bar        0  \n1        Map        0  \n2      Rings        0  \n3        Bar        0  \n4     Bubble        0  "
     },
     "execution_count": 3,
     "metadata": {},
     "output_type": "execute_result"
    }
   ],
   "source": [
    "df = pd.read_csv(r\"C:\\Users\\Aaron\\Documents\\GW_Data_Course\\AIsaacson_GW_HW\\GW_Project2\\sources\\Quiz_results_29FEB_noon.csv\")\n",
    "df.head()"
   ]
  },
  {
   "cell_type": "code",
   "execution_count": 4,
   "metadata": {},
   "outputs": [
    {
     "data": {
      "text/plain": "array(['Bar', 'Map', 'Rings', 'Bubble', 'Table', 'Tree', 'Scatter', 'Pie',\n       'Line'], dtype=object)"
     },
     "execution_count": 4,
     "metadata": {},
     "output_type": "execute_result"
    }
   ],
   "source": [
    "df_data=df[['Data_Type','Correct']]\n",
    "df_target=df['Chart_Type']\n",
    "df_target.unique()"
   ]
  },
  {
   "cell_type": "code",
   "execution_count": 5,
   "metadata": {},
   "outputs": [
    {
     "data": {
      "text/html": "<div>\n<style scoped>\n    .dataframe tbody tr th:only-of-type {\n        vertical-align: middle;\n    }\n\n    .dataframe tbody tr th {\n        vertical-align: top;\n    }\n\n    .dataframe thead th {\n        text-align: right;\n    }\n</style>\n<table border=\"1\" class=\"dataframe\">\n  <thead>\n    <tr style=\"text-align: right;\">\n      <th></th>\n      <th>Correct</th>\n      <th>Data_Type_categoryvsvalue</th>\n      <th>Data_Type_comparison</th>\n      <th>Data_Type_valuevslocation</th>\n      <th>Data_Type_valuevstime</th>\n      <th>Data_Type_valuevsvalue</th>\n    </tr>\n  </thead>\n  <tbody>\n    <tr>\n      <th>0</th>\n      <td>0</td>\n      <td>1</td>\n      <td>0</td>\n      <td>0</td>\n      <td>0</td>\n      <td>0</td>\n    </tr>\n    <tr>\n      <th>1</th>\n      <td>0</td>\n      <td>0</td>\n      <td>0</td>\n      <td>1</td>\n      <td>0</td>\n      <td>0</td>\n    </tr>\n    <tr>\n      <th>2</th>\n      <td>0</td>\n      <td>0</td>\n      <td>0</td>\n      <td>0</td>\n      <td>1</td>\n      <td>0</td>\n    </tr>\n    <tr>\n      <th>3</th>\n      <td>0</td>\n      <td>0</td>\n      <td>1</td>\n      <td>0</td>\n      <td>0</td>\n      <td>0</td>\n    </tr>\n    <tr>\n      <th>4</th>\n      <td>0</td>\n      <td>1</td>\n      <td>0</td>\n      <td>0</td>\n      <td>0</td>\n      <td>0</td>\n    </tr>\n  </tbody>\n</table>\n</div>",
      "text/plain": "   Correct  Data_Type_categoryvsvalue  Data_Type_comparison  \\\n0        0                          1                     0   \n1        0                          0                     0   \n2        0                          0                     0   \n3        0                          0                     1   \n4        0                          1                     0   \n\n   Data_Type_valuevslocation  Data_Type_valuevstime  Data_Type_valuevsvalue  \n0                          0                      0                       0  \n1                          1                      0                       0  \n2                          0                      1                       0  \n3                          0                      0                       0  \n4                          0                      0                       0  "
     },
     "execution_count": 5,
     "metadata": {},
     "output_type": "execute_result"
    }
   ],
   "source": [
    "df_data_dummies = pd.get_dummies(df_data)\n",
    "df_data_dummies.head()"
   ]
  },
  {
   "cell_type": "code",
   "execution_count": 6,
   "metadata": {},
   "outputs": [],
   "source": [
    "data_names = ['Number Correct','DimensionVsMeasure','Comparison','Dimension(Location)VsMeasure','Dimension(Time)VsMeasure','MeasureVsMeasure']\n",
    "target_names = df_target.unique()"
   ]
  },
  {
   "cell_type": "code",
   "execution_count": 7,
   "metadata": {},
   "outputs": [],
   "source": [
    "clf = tree.DecisionTreeClassifier()\n",
    "clf = clf.fit(df_data_dummies, df_target)"
   ]
  },
  {
   "cell_type": "code",
   "execution_count": 8,
   "metadata": {},
   "outputs": [
    {
     "data": {
      "image/svg+xml": "<?xml version=\"1.0\" encoding=\"UTF-8\" standalone=\"no\"?>\r\n<!DOCTYPE svg PUBLIC \"-//W3C//DTD SVG 1.1//EN\"\r\n \"http://www.w3.org/Graphics/SVG/1.1/DTD/svg11.dtd\">\r\n<!-- Generated by graphviz version 2.38.0 (20140413.2041)\r\n -->\r\n<!-- Title: Tree Pages: 1 -->\r\n<svg width=\"1791pt\" height=\"671pt\"\r\n viewBox=\"0.00 0.00 1791.00 671.00\" xmlns=\"http://www.w3.org/2000/svg\" xmlns:xlink=\"http://www.w3.org/1999/xlink\">\r\n<g id=\"graph0\" class=\"graph\" transform=\"scale(1 1) rotate(0) translate(4 667)\">\r\n<title>Tree</title>\r\n<polygon fill=\"white\" stroke=\"none\" points=\"-4,4 -4,-667 1787,-667 1787,4 -4,4\"/>\r\n<!-- 0 -->\r\n<g id=\"node1\" class=\"node\"><title>0</title>\r\n<path fill=\"#fdf5f0\" stroke=\"black\" d=\"M1439.5,-663C1439.5,-663 1140.5,-663 1140.5,-663 1134.5,-663 1128.5,-657 1128.5,-651 1128.5,-651 1128.5,-592 1128.5,-592 1128.5,-586 1134.5,-580 1140.5,-580 1140.5,-580 1439.5,-580 1439.5,-580 1445.5,-580 1451.5,-586 1451.5,-592 1451.5,-592 1451.5,-651 1451.5,-651 1451.5,-657 1445.5,-663 1439.5,-663\"/>\r\n<text text-anchor=\"start\" x=\"1171\" y=\"-647.8\" font-family=\"Helvetica,sans-Serif\" font-size=\"14.00\">Dimension(Location)VsMeasure ≤ 0.5</text>\r\n<text text-anchor=\"start\" x=\"1252.5\" y=\"-632.8\" font-family=\"Helvetica,sans-Serif\" font-size=\"14.00\">gini = 0.871</text>\r\n<text text-anchor=\"start\" x=\"1238.5\" y=\"-617.8\" font-family=\"Helvetica,sans-Serif\" font-size=\"14.00\">samples = 1440</text>\r\n<text text-anchor=\"start\" x=\"1136.5\" y=\"-602.8\" font-family=\"Helvetica,sans-Serif\" font-size=\"14.00\">value = [288, 192, 96, 192, 192, 96, 96, 192, 96]</text>\r\n<text text-anchor=\"start\" x=\"1254.5\" y=\"-587.8\" font-family=\"Helvetica,sans-Serif\" font-size=\"14.00\">class = Bar</text>\r\n</g>\r\n<!-- 1 -->\r\n<g id=\"node2\" class=\"node\"><title>1</title>\r\n<path fill=\"#ffffff\" stroke=\"black\" d=\"M1288,-544C1288,-544 1006,-544 1006,-544 1000,-544 994,-538 994,-532 994,-532 994,-473 994,-473 994,-467 1000,-461 1006,-461 1006,-461 1288,-461 1288,-461 1294,-461 1300,-467 1300,-473 1300,-473 1300,-532 1300,-532 1300,-538 1294,-544 1288,-544\"/>\r\n<text text-anchor=\"start\" x=\"1038.5\" y=\"-528.8\" font-family=\"Helvetica,sans-Serif\" font-size=\"14.00\">Dimension(Time)VsMeasure ≤ 0.5</text>\r\n<text text-anchor=\"start\" x=\"1109.5\" y=\"-513.8\" font-family=\"Helvetica,sans-Serif\" font-size=\"14.00\">gini = 0.861</text>\r\n<text text-anchor=\"start\" x=\"1095.5\" y=\"-498.8\" font-family=\"Helvetica,sans-Serif\" font-size=\"14.00\">samples = 1152</text>\r\n<text text-anchor=\"start\" x=\"1002\" y=\"-483.8\" font-family=\"Helvetica,sans-Serif\" font-size=\"14.00\">value = [192, 192, 96, 0, 192, 96, 96, 192, 96]</text>\r\n<text text-anchor=\"start\" x=\"1111.5\" y=\"-468.8\" font-family=\"Helvetica,sans-Serif\" font-size=\"14.00\">class = Bar</text>\r\n</g>\r\n<!-- 0&#45;&gt;1 -->\r\n<g id=\"edge1\" class=\"edge\"><title>0&#45;&gt;1</title>\r\n<path fill=\"none\" stroke=\"black\" d=\"M1240.39,-579.907C1228.74,-570.379 1216.24,-560.148 1204.29,-550.37\"/>\r\n<polygon fill=\"black\" stroke=\"black\" points=\"1206.48,-547.644 1196.53,-544.021 1202.05,-553.062 1206.48,-547.644\"/>\r\n<text text-anchor=\"middle\" x=\"1199.01\" y=\"-565.197\" font-family=\"Helvetica,sans-Serif\" font-size=\"14.00\">True</text>\r\n</g>\r\n<!-- 16 -->\r\n<g id=\"node17\" class=\"node\"><title>16</title>\r\n<path fill=\"#9cf2c0\" stroke=\"black\" d=\"M1538,-544C1538,-544 1330,-544 1330,-544 1324,-544 1318,-538 1318,-532 1318,-532 1318,-473 1318,-473 1318,-467 1324,-461 1330,-461 1330,-461 1538,-461 1538,-461 1544,-461 1550,-467 1550,-473 1550,-473 1550,-532 1550,-532 1550,-538 1544,-544 1538,-544\"/>\r\n<text text-anchor=\"start\" x=\"1365.5\" y=\"-528.8\" font-family=\"Helvetica,sans-Serif\" font-size=\"14.00\">Number Correct ≤ 0.5</text>\r\n<text text-anchor=\"start\" x=\"1396.5\" y=\"-513.8\" font-family=\"Helvetica,sans-Serif\" font-size=\"14.00\">gini = 0.444</text>\r\n<text text-anchor=\"start\" x=\"1386.5\" y=\"-498.8\" font-family=\"Helvetica,sans-Serif\" font-size=\"14.00\">samples = 288</text>\r\n<text text-anchor=\"start\" x=\"1326\" y=\"-483.8\" font-family=\"Helvetica,sans-Serif\" font-size=\"14.00\">value = [96, 0, 0, 192, 0, 0, 0, 0, 0]</text>\r\n<text text-anchor=\"start\" x=\"1387\" y=\"-468.8\" font-family=\"Helvetica,sans-Serif\" font-size=\"14.00\">class = Bubble</text>\r\n</g>\r\n<!-- 0&#45;&gt;16 -->\r\n<g id=\"edge16\" class=\"edge\"><title>0&#45;&gt;16</title>\r\n<path fill=\"none\" stroke=\"black\" d=\"M1339.96,-579.907C1351.69,-570.379 1364.28,-560.148 1376.31,-550.37\"/>\r\n<polygon fill=\"black\" stroke=\"black\" points=\"1378.57,-553.043 1384.13,-544.021 1374.16,-547.61 1378.57,-553.043\"/>\r\n<text text-anchor=\"middle\" x=\"1381.56\" y=\"-565.188\" font-family=\"Helvetica,sans-Serif\" font-size=\"14.00\">False</text>\r\n</g>\r\n<!-- 2 -->\r\n<g id=\"node3\" class=\"node\"><title>2</title>\r\n<path fill=\"#ffffff\" stroke=\"black\" d=\"M1010.5,-425C1010.5,-425 753.5,-425 753.5,-425 747.5,-425 741.5,-419 741.5,-413 741.5,-413 741.5,-354 741.5,-354 741.5,-348 747.5,-342 753.5,-342 753.5,-342 1010.5,-342 1010.5,-342 1016.5,-342 1022.5,-348 1022.5,-354 1022.5,-354 1022.5,-413 1022.5,-413 1022.5,-419 1016.5,-425 1010.5,-425\"/>\r\n<text text-anchor=\"start\" x=\"800.5\" y=\"-409.8\" font-family=\"Helvetica,sans-Serif\" font-size=\"14.00\">MeasureVsMeasure ≤ 0.5</text>\r\n<text text-anchor=\"start\" x=\"844.5\" y=\"-394.8\" font-family=\"Helvetica,sans-Serif\" font-size=\"14.00\">gini = 0.815</text>\r\n<text text-anchor=\"start\" x=\"834.5\" y=\"-379.8\" font-family=\"Helvetica,sans-Serif\" font-size=\"14.00\">samples = 864</text>\r\n<text text-anchor=\"start\" x=\"749.5\" y=\"-364.8\" font-family=\"Helvetica,sans-Serif\" font-size=\"14.00\">value = [192, 192, 0, 0, 192, 0, 96, 96, 96]</text>\r\n<text text-anchor=\"start\" x=\"846.5\" y=\"-349.8\" font-family=\"Helvetica,sans-Serif\" font-size=\"14.00\">class = Bar</text>\r\n</g>\r\n<!-- 1&#45;&gt;2 -->\r\n<g id=\"edge2\" class=\"edge\"><title>1&#45;&gt;2</title>\r\n<path fill=\"none\" stroke=\"black\" d=\"M1055.06,-460.907C1031.83,-450.653 1006.77,-439.585 983.114,-429.143\"/>\r\n<polygon fill=\"black\" stroke=\"black\" points=\"984.34,-425.858 973.778,-425.021 981.512,-432.262 984.34,-425.858\"/>\r\n</g>\r\n<!-- 13 -->\r\n<g id=\"node14\" class=\"node\"><title>13</title>\r\n<path fill=\"#ffffff\" stroke=\"black\" d=\"M1261,-425C1261,-425 1053,-425 1053,-425 1047,-425 1041,-419 1041,-413 1041,-413 1041,-354 1041,-354 1041,-348 1047,-342 1053,-342 1053,-342 1261,-342 1261,-342 1267,-342 1273,-348 1273,-354 1273,-354 1273,-413 1273,-413 1273,-419 1267,-425 1261,-425\"/>\r\n<text text-anchor=\"start\" x=\"1088.5\" y=\"-409.8\" font-family=\"Helvetica,sans-Serif\" font-size=\"14.00\">Number Correct ≤ 0.5</text>\r\n<text text-anchor=\"start\" x=\"1119.5\" y=\"-394.8\" font-family=\"Helvetica,sans-Serif\" font-size=\"14.00\">gini = 0.667</text>\r\n<text text-anchor=\"start\" x=\"1109.5\" y=\"-379.8\" font-family=\"Helvetica,sans-Serif\" font-size=\"14.00\">samples = 288</text>\r\n<text text-anchor=\"start\" x=\"1049\" y=\"-364.8\" font-family=\"Helvetica,sans-Serif\" font-size=\"14.00\">value = [0, 0, 96, 0, 0, 96, 0, 96, 0]</text>\r\n<text text-anchor=\"start\" x=\"1114\" y=\"-349.8\" font-family=\"Helvetica,sans-Serif\" font-size=\"14.00\">class = Rings</text>\r\n</g>\r\n<!-- 1&#45;&gt;13 -->\r\n<g id=\"edge13\" class=\"edge\"><title>1&#45;&gt;13</title>\r\n<path fill=\"none\" stroke=\"black\" d=\"M1150.47,-460.907C1151.18,-452.558 1151.94,-443.671 1152.68,-435.02\"/>\r\n<polygon fill=\"black\" stroke=\"black\" points=\"1156.17,-435.283 1153.54,-425.021 1149.2,-434.686 1156.17,-435.283\"/>\r\n</g>\r\n<!-- 3 -->\r\n<g id=\"node4\" class=\"node\"><title>3</title>\r\n<path fill=\"#ffffff\" stroke=\"black\" d=\"M747.5,-306C747.5,-306 506.5,-306 506.5,-306 500.5,-306 494.5,-300 494.5,-294 494.5,-294 494.5,-235 494.5,-235 494.5,-229 500.5,-223 506.5,-223 506.5,-223 747.5,-223 747.5,-223 753.5,-223 759.5,-229 759.5,-235 759.5,-235 759.5,-294 759.5,-294 759.5,-300 753.5,-306 747.5,-306\"/>\r\n<text text-anchor=\"start\" x=\"570.5\" y=\"-290.8\" font-family=\"Helvetica,sans-Serif\" font-size=\"14.00\">Comparison ≤ 0.5</text>\r\n<text text-anchor=\"start\" x=\"589.5\" y=\"-275.8\" font-family=\"Helvetica,sans-Serif\" font-size=\"14.00\">gini = 0.776</text>\r\n<text text-anchor=\"start\" x=\"579.5\" y=\"-260.8\" font-family=\"Helvetica,sans-Serif\" font-size=\"14.00\">samples = 672</text>\r\n<text text-anchor=\"start\" x=\"502.5\" y=\"-245.8\" font-family=\"Helvetica,sans-Serif\" font-size=\"14.00\">value = [192, 96, 0, 0, 192, 0, 0, 96, 96]</text>\r\n<text text-anchor=\"start\" x=\"591.5\" y=\"-230.8\" font-family=\"Helvetica,sans-Serif\" font-size=\"14.00\">class = Bar</text>\r\n</g>\r\n<!-- 2&#45;&gt;3 -->\r\n<g id=\"edge3\" class=\"edge\"><title>2&#45;&gt;3</title>\r\n<path fill=\"none\" stroke=\"black\" d=\"M793.529,-341.907C771.278,-331.698 747.271,-320.683 724.601,-310.282\"/>\r\n<polygon fill=\"black\" stroke=\"black\" points=\"725.863,-307.01 715.315,-306.021 722.944,-313.372 725.863,-307.01\"/>\r\n</g>\r\n<!-- 10 -->\r\n<g id=\"node11\" class=\"node\"><title>10</title>\r\n<path fill=\"#ffffff\" stroke=\"black\" d=\"M990,-306C990,-306 790,-306 790,-306 784,-306 778,-300 778,-294 778,-294 778,-235 778,-235 778,-229 784,-223 790,-223 790,-223 990,-223 990,-223 996,-223 1002,-229 1002,-235 1002,-235 1002,-294 1002,-294 1002,-300 996,-306 990,-306\"/>\r\n<text text-anchor=\"start\" x=\"821.5\" y=\"-290.8\" font-family=\"Helvetica,sans-Serif\" font-size=\"14.00\">Number Correct ≤ 0.5</text>\r\n<text text-anchor=\"start\" x=\"861\" y=\"-275.8\" font-family=\"Helvetica,sans-Serif\" font-size=\"14.00\">gini = 0.5</text>\r\n<text text-anchor=\"start\" x=\"842.5\" y=\"-260.8\" font-family=\"Helvetica,sans-Serif\" font-size=\"14.00\">samples = 192</text>\r\n<text text-anchor=\"start\" x=\"786\" y=\"-245.8\" font-family=\"Helvetica,sans-Serif\" font-size=\"14.00\">value = [0, 96, 0, 0, 0, 0, 96, 0, 0]</text>\r\n<text text-anchor=\"start\" x=\"852\" y=\"-230.8\" font-family=\"Helvetica,sans-Serif\" font-size=\"14.00\">class = Map</text>\r\n</g>\r\n<!-- 2&#45;&gt;10 -->\r\n<g id=\"edge10\" class=\"edge\"><title>2&#45;&gt;10</title>\r\n<path fill=\"none\" stroke=\"black\" d=\"M884.776,-341.907C885.346,-333.558 885.954,-324.671 886.546,-316.02\"/>\r\n<polygon fill=\"black\" stroke=\"black\" points=\"890.039,-316.236 887.229,-306.021 883.055,-315.759 890.039,-316.236\"/>\r\n</g>\r\n<!-- 4 -->\r\n<g id=\"node5\" class=\"node\"><title>4</title>\r\n<path fill=\"#ffffff\" stroke=\"black\" d=\"M486,-187C486,-187 270,-187 270,-187 264,-187 258,-181 258,-175 258,-175 258,-116 258,-116 258,-110 264,-104 270,-104 270,-104 486,-104 486,-104 492,-104 498,-110 498,-116 498,-116 498,-175 498,-175 498,-181 492,-187 486,-187\"/>\r\n<text text-anchor=\"start\" x=\"309.5\" y=\"-171.8\" font-family=\"Helvetica,sans-Serif\" font-size=\"14.00\">Number Correct ≤ 0.5</text>\r\n<text text-anchor=\"start\" x=\"344.5\" y=\"-156.8\" font-family=\"Helvetica,sans-Serif\" font-size=\"14.00\">gini = 0.75</text>\r\n<text text-anchor=\"start\" x=\"330.5\" y=\"-141.8\" font-family=\"Helvetica,sans-Serif\" font-size=\"14.00\">samples = 384</text>\r\n<text text-anchor=\"start\" x=\"266\" y=\"-126.8\" font-family=\"Helvetica,sans-Serif\" font-size=\"14.00\">value = [96, 96, 0, 0, 96, 0, 0, 0, 96]</text>\r\n<text text-anchor=\"start\" x=\"342.5\" y=\"-111.8\" font-family=\"Helvetica,sans-Serif\" font-size=\"14.00\">class = Bar</text>\r\n</g>\r\n<!-- 3&#45;&gt;4 -->\r\n<g id=\"edge4\" class=\"edge\"><title>3&#45;&gt;4</title>\r\n<path fill=\"none\" stroke=\"black\" d=\"M540.611,-222.907C518.883,-212.698 495.441,-201.683 473.304,-191.282\"/>\r\n<polygon fill=\"black\" stroke=\"black\" points=\"474.776,-188.106 464.237,-187.021 471.799,-194.441 474.776,-188.106\"/>\r\n</g>\r\n<!-- 7 -->\r\n<g id=\"node8\" class=\"node\"><title>7</title>\r\n<path fill=\"#ffffff\" stroke=\"black\" d=\"M736,-187C736,-187 528,-187 528,-187 522,-187 516,-181 516,-175 516,-175 516,-116 516,-116 516,-110 522,-104 528,-104 528,-104 736,-104 736,-104 742,-104 748,-110 748,-116 748,-116 748,-175 748,-175 748,-181 742,-187 736,-187\"/>\r\n<text text-anchor=\"start\" x=\"563.5\" y=\"-171.8\" font-family=\"Helvetica,sans-Serif\" font-size=\"14.00\">Number Correct ≤ 0.5</text>\r\n<text text-anchor=\"start\" x=\"594.5\" y=\"-156.8\" font-family=\"Helvetica,sans-Serif\" font-size=\"14.00\">gini = 0.667</text>\r\n<text text-anchor=\"start\" x=\"584.5\" y=\"-141.8\" font-family=\"Helvetica,sans-Serif\" font-size=\"14.00\">samples = 288</text>\r\n<text text-anchor=\"start\" x=\"524\" y=\"-126.8\" font-family=\"Helvetica,sans-Serif\" font-size=\"14.00\">value = [96, 0, 0, 0, 96, 0, 0, 96, 0]</text>\r\n<text text-anchor=\"start\" x=\"596.5\" y=\"-111.8\" font-family=\"Helvetica,sans-Serif\" font-size=\"14.00\">class = Bar</text>\r\n</g>\r\n<!-- 3&#45;&gt;7 -->\r\n<g id=\"edge7\" class=\"edge\"><title>3&#45;&gt;7</title>\r\n<path fill=\"none\" stroke=\"black\" d=\"M628.735,-222.907C629.092,-214.558 629.471,-205.671 629.841,-197.02\"/>\r\n<polygon fill=\"black\" stroke=\"black\" points=\"633.338,-197.161 630.268,-187.021 626.344,-196.862 633.338,-197.161\"/>\r\n</g>\r\n<!-- 5 -->\r\n<g id=\"node6\" class=\"node\"><title>5</title>\r\n<path fill=\"#eafbfc\" stroke=\"black\" d=\"M228,-68C228,-68 12,-68 12,-68 6,-68 0,-62 0,-56 0,-56 0,-12 0,-12 0,-6 6,-0 12,-0 12,-0 228,-0 228,-0 234,-0 240,-6 240,-12 240,-12 240,-56 240,-56 240,-62 234,-68 228,-68\"/>\r\n<text text-anchor=\"start\" x=\"82.5\" y=\"-52.8\" font-family=\"Helvetica,sans-Serif\" font-size=\"14.00\">gini = 0.729</text>\r\n<text text-anchor=\"start\" x=\"72.5\" y=\"-37.8\" font-family=\"Helvetica,sans-Serif\" font-size=\"14.00\">samples = 187</text>\r\n<text text-anchor=\"start\" x=\"8\" y=\"-22.8\" font-family=\"Helvetica,sans-Serif\" font-size=\"14.00\">value = [30, 39, 0, 0, 66, 0, 0, 0, 52]</text>\r\n<text text-anchor=\"start\" x=\"77.5\" y=\"-7.8\" font-family=\"Helvetica,sans-Serif\" font-size=\"14.00\">class = Table</text>\r\n</g>\r\n<!-- 4&#45;&gt;5 -->\r\n<g id=\"edge5\" class=\"edge\"><title>4&#45;&gt;5</title>\r\n<path fill=\"none\" stroke=\"black\" d=\"M282.297,-103.882C257.736,-93.4579 231.447,-82.3002 207.334,-72.0661\"/>\r\n<polygon fill=\"black\" stroke=\"black\" points=\"208.428,-68.7284 197.855,-68.0433 205.693,-75.1721 208.428,-68.7284\"/>\r\n</g>\r\n<!-- 6 -->\r\n<g id=\"node7\" class=\"node\"><title>6</title>\r\n<path fill=\"#fdf7f2\" stroke=\"black\" d=\"M486,-68C486,-68 270,-68 270,-68 264,-68 258,-62 258,-56 258,-56 258,-12 258,-12 258,-6 264,-0 270,-0 270,-0 486,-0 486,-0 492,-0 498,-6 498,-12 498,-12 498,-56 498,-56 498,-62 492,-68 486,-68\"/>\r\n<text text-anchor=\"start\" x=\"340.5\" y=\"-52.8\" font-family=\"Helvetica,sans-Serif\" font-size=\"14.00\">gini = 0.731</text>\r\n<text text-anchor=\"start\" x=\"330.5\" y=\"-37.8\" font-family=\"Helvetica,sans-Serif\" font-size=\"14.00\">samples = 197</text>\r\n<text text-anchor=\"start\" x=\"266\" y=\"-22.8\" font-family=\"Helvetica,sans-Serif\" font-size=\"14.00\">value = [66, 57, 0, 0, 30, 0, 0, 0, 44]</text>\r\n<text text-anchor=\"start\" x=\"342.5\" y=\"-7.8\" font-family=\"Helvetica,sans-Serif\" font-size=\"14.00\">class = Bar</text>\r\n</g>\r\n<!-- 4&#45;&gt;6 -->\r\n<g id=\"edge6\" class=\"edge\"><title>4&#45;&gt;6</title>\r\n<path fill=\"none\" stroke=\"black\" d=\"M378,-103.726C378,-95.5175 378,-86.8595 378,-78.56\"/>\r\n<polygon fill=\"black\" stroke=\"black\" points=\"381.5,-78.2996 378,-68.2996 374.5,-78.2996 381.5,-78.2996\"/>\r\n</g>\r\n<!-- 8 -->\r\n<g id=\"node9\" class=\"node\"><title>8</title>\r\n<path fill=\"#fae8db\" stroke=\"black\" d=\"M736,-68C736,-68 528,-68 528,-68 522,-68 516,-62 516,-56 516,-56 516,-12 516,-12 516,-6 522,-0 528,-0 528,-0 736,-0 736,-0 742,-0 748,-6 748,-12 748,-12 748,-56 748,-56 748,-62 742,-68 736,-68\"/>\r\n<text text-anchor=\"start\" x=\"594.5\" y=\"-52.8\" font-family=\"Helvetica,sans-Serif\" font-size=\"14.00\">gini = 0.592</text>\r\n<text text-anchor=\"start\" x=\"584.5\" y=\"-37.8\" font-family=\"Helvetica,sans-Serif\" font-size=\"14.00\">samples = 125</text>\r\n<text text-anchor=\"start\" x=\"524\" y=\"-22.8\" font-family=\"Helvetica,sans-Serif\" font-size=\"14.00\">value = [62, 0, 0, 0, 15, 0, 0, 48, 0]</text>\r\n<text text-anchor=\"start\" x=\"596.5\" y=\"-7.8\" font-family=\"Helvetica,sans-Serif\" font-size=\"14.00\">class = Bar</text>\r\n</g>\r\n<!-- 7&#45;&gt;8 -->\r\n<g id=\"edge8\" class=\"edge\"><title>7&#45;&gt;8</title>\r\n<path fill=\"none\" stroke=\"black\" d=\"M632,-103.726C632,-95.5175 632,-86.8595 632,-78.56\"/>\r\n<polygon fill=\"black\" stroke=\"black\" points=\"635.5,-78.2996 632,-68.2996 628.5,-78.2996 635.5,-78.2996\"/>\r\n</g>\r\n<!-- 9 -->\r\n<g id=\"node10\" class=\"node\"><title>9</title>\r\n<path fill=\"#c6f4f8\" stroke=\"black\" d=\"M986,-68C986,-68 778,-68 778,-68 772,-68 766,-62 766,-56 766,-56 766,-12 766,-12 766,-6 772,-0 778,-0 778,-0 986,-0 986,-0 992,-0 998,-6 998,-12 998,-12 998,-56 998,-56 998,-62 992,-68 986,-68\"/>\r\n<text text-anchor=\"start\" x=\"844.5\" y=\"-52.8\" font-family=\"Helvetica,sans-Serif\" font-size=\"14.00\">gini = 0.623</text>\r\n<text text-anchor=\"start\" x=\"834.5\" y=\"-37.8\" font-family=\"Helvetica,sans-Serif\" font-size=\"14.00\">samples = 163</text>\r\n<text text-anchor=\"start\" x=\"774\" y=\"-22.8\" font-family=\"Helvetica,sans-Serif\" font-size=\"14.00\">value = [34, 0, 0, 0, 81, 0, 0, 48, 0]</text>\r\n<text text-anchor=\"start\" x=\"839.5\" y=\"-7.8\" font-family=\"Helvetica,sans-Serif\" font-size=\"14.00\">class = Table</text>\r\n</g>\r\n<!-- 7&#45;&gt;9 -->\r\n<g id=\"edge9\" class=\"edge\"><title>7&#45;&gt;9</title>\r\n<path fill=\"none\" stroke=\"black\" d=\"M724.736,-103.882C748.535,-93.4579 774.009,-82.3002 797.374,-72.0661\"/>\r\n<polygon fill=\"black\" stroke=\"black\" points=\"798.803,-75.2614 806.559,-68.0433 795.995,-68.8494 798.803,-75.2614\"/>\r\n</g>\r\n<!-- 11 -->\r\n<g id=\"node12\" class=\"node\"><title>11</title>\r\n<path fill=\"#d9c3f7\" stroke=\"black\" d=\"M982,-179.5C982,-179.5 782,-179.5 782,-179.5 776,-179.5 770,-173.5 770,-167.5 770,-167.5 770,-123.5 770,-123.5 770,-117.5 776,-111.5 782,-111.5 782,-111.5 982,-111.5 982,-111.5 988,-111.5 994,-117.5 994,-123.5 994,-123.5 994,-167.5 994,-167.5 994,-173.5 988,-179.5 982,-179.5\"/>\r\n<text text-anchor=\"start\" x=\"844.5\" y=\"-164.3\" font-family=\"Helvetica,sans-Serif\" font-size=\"14.00\">gini = 0.484</text>\r\n<text text-anchor=\"start\" x=\"834.5\" y=\"-149.3\" font-family=\"Helvetica,sans-Serif\" font-size=\"14.00\">samples = 141</text>\r\n<text text-anchor=\"start\" x=\"778\" y=\"-134.3\" font-family=\"Helvetica,sans-Serif\" font-size=\"14.00\">value = [0, 58, 0, 0, 0, 0, 83, 0, 0]</text>\r\n<text text-anchor=\"start\" x=\"835\" y=\"-119.3\" font-family=\"Helvetica,sans-Serif\" font-size=\"14.00\">class = Scatter</text>\r\n</g>\r\n<!-- 10&#45;&gt;11 -->\r\n<g id=\"edge11\" class=\"edge\"><title>10&#45;&gt;11</title>\r\n<path fill=\"none\" stroke=\"black\" d=\"M887.224,-222.907C886.493,-212.204 885.7,-200.615 884.959,-189.776\"/>\r\n<polygon fill=\"black\" stroke=\"black\" points=\"888.442,-189.405 884.268,-179.667 881.458,-189.882 888.442,-189.405\"/>\r\n</g>\r\n<!-- 12 -->\r\n<g id=\"node13\" class=\"node\"><title>12</title>\r\n<path fill=\"#e5ee7d\" stroke=\"black\" d=\"M1224,-179.5C1224,-179.5 1024,-179.5 1024,-179.5 1018,-179.5 1012,-173.5 1012,-167.5 1012,-167.5 1012,-123.5 1012,-123.5 1012,-117.5 1018,-111.5 1024,-111.5 1024,-111.5 1224,-111.5 1224,-111.5 1230,-111.5 1236,-117.5 1236,-123.5 1236,-123.5 1236,-167.5 1236,-167.5 1236,-173.5 1230,-179.5 1224,-179.5\"/>\r\n<text text-anchor=\"start\" x=\"1090.5\" y=\"-164.3\" font-family=\"Helvetica,sans-Serif\" font-size=\"14.00\">gini = 0.38</text>\r\n<text text-anchor=\"start\" x=\"1080.5\" y=\"-149.3\" font-family=\"Helvetica,sans-Serif\" font-size=\"14.00\">samples = 51</text>\r\n<text text-anchor=\"start\" x=\"1020\" y=\"-134.3\" font-family=\"Helvetica,sans-Serif\" font-size=\"14.00\">value = [0, 38, 0, 0, 0, 0, 13, 0, 0]</text>\r\n<text text-anchor=\"start\" x=\"1086\" y=\"-119.3\" font-family=\"Helvetica,sans-Serif\" font-size=\"14.00\">class = Map</text>\r\n</g>\r\n<!-- 10&#45;&gt;12 -->\r\n<g id=\"edge12\" class=\"edge\"><title>10&#45;&gt;12</title>\r\n<path fill=\"none\" stroke=\"black\" d=\"M971.185,-222.907C996.344,-210.328 1023.95,-196.526 1048.69,-184.155\"/>\r\n<polygon fill=\"black\" stroke=\"black\" points=\"1050.29,-187.27 1057.67,-179.667 1047.16,-181.009 1050.29,-187.27\"/>\r\n</g>\r\n<!-- 14 -->\r\n<g id=\"node15\" class=\"node\"><title>14</title>\r\n<path fill=\"#e4eafb\" stroke=\"black\" d=\"M1247,-298.5C1247,-298.5 1039,-298.5 1039,-298.5 1033,-298.5 1027,-292.5 1027,-286.5 1027,-286.5 1027,-242.5 1027,-242.5 1027,-236.5 1033,-230.5 1039,-230.5 1039,-230.5 1247,-230.5 1247,-230.5 1253,-230.5 1259,-236.5 1259,-242.5 1259,-242.5 1259,-286.5 1259,-286.5 1259,-292.5 1253,-298.5 1247,-298.5\"/>\r\n<text text-anchor=\"start\" x=\"1105.5\" y=\"-283.3\" font-family=\"Helvetica,sans-Serif\" font-size=\"14.00\">gini = 0.657</text>\r\n<text text-anchor=\"start\" x=\"1095.5\" y=\"-268.3\" font-family=\"Helvetica,sans-Serif\" font-size=\"14.00\">samples = 195</text>\r\n<text text-anchor=\"start\" x=\"1035\" y=\"-253.3\" font-family=\"Helvetica,sans-Serif\" font-size=\"14.00\">value = [0, 0, 62, 0, 0, 80, 0, 53, 0]</text>\r\n<text text-anchor=\"start\" x=\"1103.5\" y=\"-238.3\" font-family=\"Helvetica,sans-Serif\" font-size=\"14.00\">class = Tree</text>\r\n</g>\r\n<!-- 13&#45;&gt;14 -->\r\n<g id=\"edge14\" class=\"edge\"><title>13&#45;&gt;14</title>\r\n<path fill=\"none\" stroke=\"black\" d=\"M1152.14,-341.907C1150.86,-331.204 1149.48,-319.615 1148.18,-308.776\"/>\r\n<polygon fill=\"black\" stroke=\"black\" points=\"1151.63,-308.18 1146.97,-298.667 1144.68,-309.012 1151.63,-308.18\"/>\r\n</g>\r\n<!-- 15 -->\r\n<g id=\"node16\" class=\"node\"><title>15</title>\r\n<path fill=\"#fbe1f9\" stroke=\"black\" d=\"M1497,-298.5C1497,-298.5 1289,-298.5 1289,-298.5 1283,-298.5 1277,-292.5 1277,-286.5 1277,-286.5 1277,-242.5 1277,-242.5 1277,-236.5 1283,-230.5 1289,-230.5 1289,-230.5 1497,-230.5 1497,-230.5 1503,-230.5 1509,-236.5 1509,-242.5 1509,-242.5 1509,-286.5 1509,-286.5 1509,-292.5 1503,-298.5 1497,-298.5\"/>\r\n<text text-anchor=\"start\" x=\"1355.5\" y=\"-283.3\" font-family=\"Helvetica,sans-Serif\" font-size=\"14.00\">gini = 0.623</text>\r\n<text text-anchor=\"start\" x=\"1349.5\" y=\"-268.3\" font-family=\"Helvetica,sans-Serif\" font-size=\"14.00\">samples = 93</text>\r\n<text text-anchor=\"start\" x=\"1285\" y=\"-253.3\" font-family=\"Helvetica,sans-Serif\" font-size=\"14.00\">value = [0, 0, 34, 0, 0, 16, 0, 43, 0]</text>\r\n<text text-anchor=\"start\" x=\"1358\" y=\"-238.3\" font-family=\"Helvetica,sans-Serif\" font-size=\"14.00\">class = Pie</text>\r\n</g>\r\n<!-- 13&#45;&gt;15 -->\r\n<g id=\"edge15\" class=\"edge\"><title>13&#45;&gt;15</title>\r\n<path fill=\"none\" stroke=\"black\" d=\"M1238.88,-341.907C1264.25,-329.328 1292.09,-315.526 1317.05,-303.155\"/>\r\n<polygon fill=\"black\" stroke=\"black\" points=\"1318.69,-306.245 1326.1,-298.667 1315.59,-299.973 1318.69,-306.245\"/>\r\n</g>\r\n<!-- 17 -->\r\n<g id=\"node18\" class=\"node\"><title>17</title>\r\n<path fill=\"#57e994\" stroke=\"black\" d=\"M1529,-417.5C1529,-417.5 1321,-417.5 1321,-417.5 1315,-417.5 1309,-411.5 1309,-405.5 1309,-405.5 1309,-361.5 1309,-361.5 1309,-355.5 1315,-349.5 1321,-349.5 1321,-349.5 1529,-349.5 1529,-349.5 1535,-349.5 1541,-355.5 1541,-361.5 1541,-361.5 1541,-405.5 1541,-405.5 1541,-411.5 1535,-417.5 1529,-417.5\"/>\r\n<text text-anchor=\"start\" x=\"1391.5\" y=\"-402.3\" font-family=\"Helvetica,sans-Serif\" font-size=\"14.00\">gini = 0.23</text>\r\n<text text-anchor=\"start\" x=\"1377.5\" y=\"-387.3\" font-family=\"Helvetica,sans-Serif\" font-size=\"14.00\">samples = 136</text>\r\n<text text-anchor=\"start\" x=\"1317\" y=\"-372.3\" font-family=\"Helvetica,sans-Serif\" font-size=\"14.00\">value = [18, 0, 0, 118, 0, 0, 0, 0, 0]</text>\r\n<text text-anchor=\"start\" x=\"1378\" y=\"-357.3\" font-family=\"Helvetica,sans-Serif\" font-size=\"14.00\">class = Bubble</text>\r\n</g>\r\n<!-- 16&#45;&gt;17 -->\r\n<g id=\"edge17\" class=\"edge\"><title>16&#45;&gt;17</title>\r\n<path fill=\"none\" stroke=\"black\" d=\"M1430.88,-460.907C1430.05,-450.204 1429.16,-438.615 1428.33,-427.776\"/>\r\n<polygon fill=\"black\" stroke=\"black\" points=\"1431.81,-427.369 1427.55,-417.667 1424.83,-427.906 1431.81,-427.369\"/>\r\n</g>\r\n<!-- 18 -->\r\n<g id=\"node19\" class=\"node\"><title>18</title>\r\n<path fill=\"#fef9f5\" stroke=\"black\" d=\"M1771,-417.5C1771,-417.5 1571,-417.5 1571,-417.5 1565,-417.5 1559,-411.5 1559,-405.5 1559,-405.5 1559,-361.5 1559,-361.5 1559,-355.5 1565,-349.5 1571,-349.5 1571,-349.5 1771,-349.5 1771,-349.5 1777,-349.5 1783,-355.5 1783,-361.5 1783,-361.5 1783,-405.5 1783,-405.5 1783,-411.5 1777,-417.5 1771,-417.5\"/>\r\n<text text-anchor=\"start\" x=\"1642\" y=\"-402.3\" font-family=\"Helvetica,sans-Serif\" font-size=\"14.00\">gini = 0.5</text>\r\n<text text-anchor=\"start\" x=\"1623.5\" y=\"-387.3\" font-family=\"Helvetica,sans-Serif\" font-size=\"14.00\">samples = 152</text>\r\n<text text-anchor=\"start\" x=\"1567\" y=\"-372.3\" font-family=\"Helvetica,sans-Serif\" font-size=\"14.00\">value = [78, 0, 0, 74, 0, 0, 0, 0, 0]</text>\r\n<text text-anchor=\"start\" x=\"1635.5\" y=\"-357.3\" font-family=\"Helvetica,sans-Serif\" font-size=\"14.00\">class = Bar</text>\r\n</g>\r\n<!-- 16&#45;&gt;18 -->\r\n<g id=\"edge18\" class=\"edge\"><title>16&#45;&gt;18</title>\r\n<path fill=\"none\" stroke=\"black\" d=\"M1516.23,-460.907C1541.71,-448.328 1569.66,-434.526 1594.72,-422.155\"/>\r\n<polygon fill=\"black\" stroke=\"black\" points=\"1596.4,-425.232 1603.82,-417.667 1593.3,-418.955 1596.4,-425.232\"/>\r\n</g>\r\n</g>\r\n</svg>\r\n",
      "text/plain": "<graphviz.files.Source at 0x1aa3a525048>"
     },
     "execution_count": 8,
     "metadata": {},
     "output_type": "execute_result"
    }
   ],
   "source": [
    "import graphviz \n",
    "dot_data = tree.export_graphviz(\n",
    "    clf, out_file=None, \n",
    "    feature_names=data_names,  \n",
    "    class_names=target_names,  \n",
    "    filled=True, rounded=True,  \n",
    "    special_characters=True)  \n",
    "\n",
    "import pydotplus\n",
    "graph = pydotplus.graph_from_dot_data(dot_data)\n",
    "graph.write_png('charts.png')\n",
    "\n",
    "graph = graphviz.Source(dot_data)  \n",
    "graph "
   ]
  },
  {
   "cell_type": "code",
   "execution_count": 9,
   "metadata": {},
   "outputs": [
    {
     "name": "stdout",
     "output_type": "stream",
     "text": "|--- Dimension(Location)VsMeasure <= 0.50\n|   |--- Dimension(Time)VsMeasure <= 0.50\n|   |   |--- MeasureVsMeasure <= 0.50\n|   |   |   |--- Comparison <= 0.50\n|   |   |   |   |--- Number Correct <= 0.50\n|   |   |   |   |   |--- class: Pie\n|   |   |   |   |--- Number Correct >  0.50\n|   |   |   |   |   |--- class: Bar\n|   |   |   |--- Comparison >  0.50\n|   |   |   |   |--- Number Correct <= 0.50\n|   |   |   |   |   |--- class: Bar\n|   |   |   |   |--- Number Correct >  0.50\n|   |   |   |   |   |--- class: Pie\n|   |   |--- MeasureVsMeasure >  0.50\n|   |   |   |--- Number Correct <= 0.50\n|   |   |   |   |--- class: Scatter\n|   |   |   |--- Number Correct >  0.50\n|   |   |   |   |--- class: Bubble\n|   |--- Dimension(Time)VsMeasure >  0.50\n|   |   |--- Number Correct <= 0.50\n|   |   |   |--- class: Rings\n|   |   |--- Number Correct >  0.50\n|   |   |   |--- class: Table\n|--- Dimension(Location)VsMeasure >  0.50\n|   |--- Number Correct <= 0.50\n|   |   |--- class: Map\n|   |--- Number Correct >  0.50\n|   |   |--- class: Bar\n\n"
    }
   ],
   "source": [
    "from sklearn.tree.export import export_text\n",
    "r = export_text(clf, feature_names=data_names)\n",
    "print(r)\n",
    "with open(\"quiz_decision_tree.txt\", \"w\") as file:\n",
    "    file.write(r)"
   ]
  },
  {
   "cell_type": "code",
   "execution_count": 14,
   "metadata": {},
   "outputs": [
    {
     "data": {
      "text/plain": "array(['Bar'], dtype=object)"
     },
     "execution_count": 14,
     "metadata": {},
     "output_type": "execute_result"
    }
   ],
   "source": [
    "clf.predict([[1,1,0,0,0,0]])"
   ]
  },
  {
   "cell_type": "code",
   "execution_count": null,
   "metadata": {},
   "outputs": [],
   "source": []
  }
 ],
 "metadata": {
  "kernelspec": {
   "display_name": "Python 3",
   "language": "python",
   "name": "python3"
  },
  "language_info": {
   "codemirror_mode": {
    "name": "ipython",
    "version": 3
   },
   "file_extension": ".py",
   "mimetype": "text/x-python",
   "name": "python",
   "nbconvert_exporter": "python",
   "pygments_lexer": "ipython3",
   "version": "3.7.3-final"
  },
  "varInspector": {
   "cols": {
    "lenName": 16,
    "lenType": 16,
    "lenVar": 40
   },
   "kernels_config": {
    "python": {
     "delete_cmd_postfix": "",
     "delete_cmd_prefix": "del ",
     "library": "var_list.py",
     "varRefreshCmd": "print(var_dic_list())"
    },
    "r": {
     "delete_cmd_postfix": ") ",
     "delete_cmd_prefix": "rm(",
     "library": "var_list.r",
     "varRefreshCmd": "cat(var_dic_list()) "
    }
   },
   "types_to_exclude": [
    "module",
    "function",
    "builtin_function_or_method",
    "instance",
    "_Feature"
   ],
   "window_display": false
  }
 },
 "nbformat": 4,
 "nbformat_minor": 2
}