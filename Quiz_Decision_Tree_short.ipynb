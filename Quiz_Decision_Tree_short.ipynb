{
 "cells": [
  {
   "cell_type": "code",
   "execution_count": 1,
   "metadata": {},
   "outputs": [],
   "source": [
    "from sklearn import tree\n",
    "import pandas as pd\n"
   ]
  },
  {
   "cell_type": "code",
   "execution_count": 14,
   "metadata": {},
   "outputs": [
    {
     "output_type": "execute_result",
     "data": {
      "text/plain": "  Chart_Type  Correct        Data_Type  \\\n0        Bar        0  categoryvsvalue   \n1        Map        0  valuevslocation   \n2      Rings        0      valuevstime   \n3        Bar        0       comparison   \n4     Bubble        0  categoryvsvalue   \n\n                                           Survey_ID   value  \n0  9e22cd438d684a29a5e84044b83b6664a9152e35453014...  sq_101  \n1  9e22cd438d684a29a5e84044b83b6664a9152e35453014...  sq_102  \n2  9e22cd438d684a29a5e84044b83b6664a9152e35453014...  sq_103  \n3  9e22cd438d684a29a5e84044b83b6664a9152e35453014...  sq_104  \n4  9e22cd438d684a29a5e84044b83b6664a9152e35453014...  sq_105  ",
      "text/html": "<div>\n<style scoped>\n    .dataframe tbody tr th:only-of-type {\n        vertical-align: middle;\n    }\n\n    .dataframe tbody tr th {\n        vertical-align: top;\n    }\n\n    .dataframe thead th {\n        text-align: right;\n    }\n</style>\n<table border=\"1\" class=\"dataframe\">\n  <thead>\n    <tr style=\"text-align: right;\">\n      <th></th>\n      <th>Chart_Type</th>\n      <th>Correct</th>\n      <th>Data_Type</th>\n      <th>Survey_ID</th>\n      <th>value</th>\n    </tr>\n  </thead>\n  <tbody>\n    <tr>\n      <th>0</th>\n      <td>Bar</td>\n      <td>0</td>\n      <td>categoryvsvalue</td>\n      <td>9e22cd438d684a29a5e84044b83b6664a9152e35453014...</td>\n      <td>sq_101</td>\n    </tr>\n    <tr>\n      <th>1</th>\n      <td>Map</td>\n      <td>0</td>\n      <td>valuevslocation</td>\n      <td>9e22cd438d684a29a5e84044b83b6664a9152e35453014...</td>\n      <td>sq_102</td>\n    </tr>\n    <tr>\n      <th>2</th>\n      <td>Rings</td>\n      <td>0</td>\n      <td>valuevstime</td>\n      <td>9e22cd438d684a29a5e84044b83b6664a9152e35453014...</td>\n      <td>sq_103</td>\n    </tr>\n    <tr>\n      <th>3</th>\n      <td>Bar</td>\n      <td>0</td>\n      <td>comparison</td>\n      <td>9e22cd438d684a29a5e84044b83b6664a9152e35453014...</td>\n      <td>sq_104</td>\n    </tr>\n    <tr>\n      <th>4</th>\n      <td>Bubble</td>\n      <td>0</td>\n      <td>categoryvsvalue</td>\n      <td>9e22cd438d684a29a5e84044b83b6664a9152e35453014...</td>\n      <td>sq_105</td>\n    </tr>\n  </tbody>\n</table>\n</div>"
     },
     "metadata": {},
     "execution_count": 14
    }
   ],
   "source": [
    "url=\"https://gwprojectflask.herokuapp.com/api/data/raw_results\"\n",
    "df = pd.read_json(url)\n",
    "df.head()"
   ]
  },
  {
   "cell_type": "code",
   "execution_count": 15,
   "metadata": {},
   "outputs": [
    {
     "output_type": "execute_result",
     "data": {
      "text/plain": "array(['Bar', 'Map', 'Rings', 'Bubble', 'Table', 'Tree', 'Scatter', 'Pie',\n       'Line'], dtype=object)"
     },
     "metadata": {},
     "execution_count": 15
    }
   ],
   "source": [
    "df_data=df[['Data_Type','Correct']]\n",
    "df_target=df['Chart_Type']\n",
    "df_target.unique()"
   ]
  },
  {
   "cell_type": "code",
   "execution_count": 16,
   "metadata": {},
   "outputs": [
    {
     "output_type": "execute_result",
     "data": {
      "text/plain": "   Correct  Data_Type_categoryvsvalue  Data_Type_comparison  \\\n0        0                          1                     0   \n1        0                          0                     0   \n2        0                          0                     0   \n3        0                          0                     1   \n4        0                          1                     0   \n\n   Data_Type_valuevslocation  Data_Type_valuevstime  Data_Type_valuevsvalue  \n0                          0                      0                       0  \n1                          1                      0                       0  \n2                          0                      1                       0  \n3                          0                      0                       0  \n4                          0                      0                       0  ",
      "text/html": "<div>\n<style scoped>\n    .dataframe tbody tr th:only-of-type {\n        vertical-align: middle;\n    }\n\n    .dataframe tbody tr th {\n        vertical-align: top;\n    }\n\n    .dataframe thead th {\n        text-align: right;\n    }\n</style>\n<table border=\"1\" class=\"dataframe\">\n  <thead>\n    <tr style=\"text-align: right;\">\n      <th></th>\n      <th>Correct</th>\n      <th>Data_Type_categoryvsvalue</th>\n      <th>Data_Type_comparison</th>\n      <th>Data_Type_valuevslocation</th>\n      <th>Data_Type_valuevstime</th>\n      <th>Data_Type_valuevsvalue</th>\n    </tr>\n  </thead>\n  <tbody>\n    <tr>\n      <th>0</th>\n      <td>0</td>\n      <td>1</td>\n      <td>0</td>\n      <td>0</td>\n      <td>0</td>\n      <td>0</td>\n    </tr>\n    <tr>\n      <th>1</th>\n      <td>0</td>\n      <td>0</td>\n      <td>0</td>\n      <td>1</td>\n      <td>0</td>\n      <td>0</td>\n    </tr>\n    <tr>\n      <th>2</th>\n      <td>0</td>\n      <td>0</td>\n      <td>0</td>\n      <td>0</td>\n      <td>1</td>\n      <td>0</td>\n    </tr>\n    <tr>\n      <th>3</th>\n      <td>0</td>\n      <td>0</td>\n      <td>1</td>\n      <td>0</td>\n      <td>0</td>\n      <td>0</td>\n    </tr>\n    <tr>\n      <th>4</th>\n      <td>0</td>\n      <td>1</td>\n      <td>0</td>\n      <td>0</td>\n      <td>0</td>\n      <td>0</td>\n    </tr>\n  </tbody>\n</table>\n</div>"
     },
     "metadata": {},
     "execution_count": 16
    }
   ],
   "source": [
    "df_data_dummies = pd.get_dummies(df_data)\n",
    "df_data_dummies.head()"
   ]
  },
  {
   "cell_type": "code",
   "execution_count": 17,
   "metadata": {},
   "outputs": [],
   "source": [
    "data_names = ['Number Correct','DimensionVsMeasure','Comparison','Dimension(Location)VsMeasure','Dimension(Time)VsMeasure','MeasureVsMeasure']\n",
    "target_names = df_target.unique()"
   ]
  },
  {
   "cell_type": "code",
   "execution_count": 18,
   "metadata": {},
   "outputs": [],
   "source": [
    "clf = tree.DecisionTreeClassifier()\n",
    "clf = clf.fit(df_data_dummies, df_target)"
   ]
  },
  {
   "cell_type": "code",
   "execution_count": 20,
   "metadata": {},
   "outputs": [
    {
     "output_type": "execute_result",
     "data": {
      "text/plain": "array(['Bar'], dtype=object)"
     },
     "metadata": {},
     "execution_count": 20
    }
   ],
   "source": [
    "clf.predict([[1,0,0,1,0,0]])"
   ]
  },
  {
   "cell_type": "code",
   "execution_count": null,
   "metadata": {},
   "outputs": [],
   "source": []
  }
 ],
 "metadata": {
  "kernelspec": {
   "display_name": "Python 3",
   "language": "python",
   "name": "python3"
  },
  "language_info": {
   "codemirror_mode": {
    "name": "ipython",
    "version": 3
   },
   "file_extension": ".py",
   "mimetype": "text/x-python",
   "name": "python",
   "nbconvert_exporter": "python",
   "pygments_lexer": "ipython3",
   "version": "3.7.3-final"
  },
  "varInspector": {
   "cols": {
    "lenName": 16,
    "lenType": 16,
    "lenVar": 40
   },
   "kernels_config": {
    "python": {
     "delete_cmd_postfix": "",
     "delete_cmd_prefix": "del ",
     "library": "var_list.py",
     "varRefreshCmd": "print(var_dic_list())"
    },
    "r": {
     "delete_cmd_postfix": ") ",
     "delete_cmd_prefix": "rm(",
     "library": "var_list.r",
     "varRefreshCmd": "cat(var_dic_list()) "
    }
   },
   "types_to_exclude": [
    "module",
    "function",
    "builtin_function_or_method",
    "instance",
    "_Feature"
   ],
   "window_display": false
  }
 },
 "nbformat": 4,
 "nbformat_minor": 2
}